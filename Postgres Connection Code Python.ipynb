{
 "cells": [
  {
   "cell_type": "code",
   "execution_count": 1,
   "id": "9ecea7dd",
   "metadata": {},
   "outputs": [],
   "source": [
    "import psycopg2"
   ]
  },
  {
   "cell_type": "code",
   "execution_count": 8,
   "id": "1321bb64",
   "metadata": {},
   "outputs": [],
   "source": [
    "conn = psycopg2.connect(\n",
    "   database=\"bhaskar\", user='postgres', password='Bhaskar45', host='127.0.0.1', port= '5432'\n",
    ")"
   ]
  },
  {
   "cell_type": "code",
   "execution_count": 9,
   "id": "07351c8d",
   "metadata": {},
   "outputs": [],
   "source": [
    "cursor = conn.cursor()"
   ]
  },
  {
   "cell_type": "code",
   "execution_count": 10,
   "id": "0823fb17",
   "metadata": {},
   "outputs": [],
   "source": [
    "cursor.execute(\"select version()\")"
   ]
  },
  {
   "cell_type": "code",
   "execution_count": 11,
   "id": "06434c85",
   "metadata": {},
   "outputs": [],
   "source": [
    "data = cursor.fetchone()"
   ]
  },
  {
   "cell_type": "code",
   "execution_count": 12,
   "id": "a47e3121",
   "metadata": {},
   "outputs": [
    {
     "name": "stdout",
     "output_type": "stream",
     "text": [
      "Connection established to:  ('PostgreSQL 10.22, compiled by Visual C++ build 1800, 64-bit',)\n"
     ]
    }
   ],
   "source": [
    "print(\"Connection established to: \",data)"
   ]
  },
  {
   "cell_type": "code",
   "execution_count": 13,
   "id": "2c4f1388",
   "metadata": {},
   "outputs": [],
   "source": [
    "conn.close()"
   ]
  }
 ],
 "metadata": {
  "kernelspec": {
   "display_name": "Python 3 (ipykernel)",
   "language": "python",
   "name": "python3"
  },
  "language_info": {
   "codemirror_mode": {
    "name": "ipython",
    "version": 3
   },
   "file_extension": ".py",
   "mimetype": "text/x-python",
   "name": "python",
   "nbconvert_exporter": "python",
   "pygments_lexer": "ipython3",
   "version": "3.9.13"
  }
 },
 "nbformat": 4,
 "nbformat_minor": 5
}
